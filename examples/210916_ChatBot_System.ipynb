{
 "cells": [
  {
   "cell_type": "code",
   "execution_count": 1,
   "id": "139bccbf",
   "metadata": {},
   "outputs": [],
   "source": [
    "from config.DatabaseConfig import *\n",
    "from config.GlobalParams import *"
   ]
  },
  {
   "cell_type": "code",
   "execution_count": 2,
   "id": "3e3c1c5b",
   "metadata": {},
   "outputs": [],
   "source": [
    "from utils.Database import Database\n",
    "from utils.Preprocess import Preprocess"
   ]
  },
  {
   "cell_type": "code",
   "execution_count": 3,
   "id": "902e6817",
   "metadata": {},
   "outputs": [],
   "source": [
    "# 전처리 객체 생성\n",
    "p = Preprocess(word2index_dic='./train_tools/dict/chatbot_dict.bin', userdic='./utils/user_dic.tsv')\n",
    "\n",
    "# 질문/답변 학습 디비 연결 객체 생성\n",
    "#db = Database(\n",
    "#    host=\"127.0.0.1\", user=\"root\", password=\"    \", db_name=\"homestead\"\n",
    "#)\n",
    "\n",
    "\n",
    "db = Database(\n",
    "        host=DB_HOST,\n",
    "        user=DB_USER,\n",
    "        password=DB_PASSWORD,\n",
    "        db_name=DB_NAME,\n",
    "        charset='utf8'\n",
    ")\n",
    "db.connect()    # 디비 연결"
   ]
  },
  {
   "cell_type": "code",
   "execution_count": 4,
   "id": "2e965af7",
   "metadata": {},
   "outputs": [
    {
     "name": "stdout",
     "output_type": "stream",
     "text": [
      "질문 :  이하상게 한인국은 읽수을가 있든거요\n",
      "====================================================================================================\n",
      "의도 파악 :  기타\n",
      "개체명 인식 :  [('이', 'O'), ('하상', 'O'), ('게', 'O'), ('한인', 'O'), ('국', 'O'), ('읽', 'O'), ('수', 'O'), ('있', 'O'), ('거', 'O')]\n",
      "답변 검색에 필요한 NER 태그 :  None\n"
     ]
    }
   ],
   "source": [
    "# 원문\n",
    "#query = \"오전에 탕수육 10개 주문합니다\"\n",
    "#query = \"화자의 질문 의도를 파악합니다.\"\n",
    "# query = \"안녕하세요\"\n",
    "#query = \"자장면 주문할게요\"\n",
    "query = \"이하상게 한인국은 읽수을가 있든거요\"\n",
    "\n",
    "# 의도 파악\n",
    "from models.intent.IntentModel import IntentModel\n",
    "\n",
    "intent = IntentModel(model_name='./models/intent/intent_model.h5', proprocess=p)\n",
    "predict = intent.predict_class(query)\n",
    "intent_name = intent.labels[predict]\n",
    "\n",
    "# 개체명 인식\n",
    "from models.ner.NerModel import NerModel\n",
    "ner = NerModel(model_name='./models/ner/ner_model.h5', proprocess=p)\n",
    "predicts = ner.predict(query)\n",
    "ner_tags = ner.predict_tags(query)\n",
    "\n",
    "print(\"질문 : \", query)\n",
    "print(\"=\" * 100)\n",
    "print(\"의도 파악 : \", intent_name)\n",
    "print(\"개체명 인식 : \", predicts)\n",
    "print(\"답변 검색에 필요한 NER 태그 : \", ner_tags)"
   ]
  },
  {
   "cell_type": "code",
   "execution_count": 5,
   "id": "f45f5081",
   "metadata": {},
   "outputs": [
    {
     "name": "stdout",
     "output_type": "stream",
     "text": [
      "답변 :  죄송해요 무슨 말인지 모르겠어요\n"
     ]
    }
   ],
   "source": [
    "# 답변 검색\n",
    "from utils.FindAnswer import FindAnswer\n",
    "\n",
    "try:\n",
    "    f = FindAnswer(db)\n",
    "    answer_text, answer_image = f.search(intent_name, ner_tags)\n",
    "    answer = f.tag_to_word(predicts, answer_text)\n",
    "except:\n",
    "    answer = \"죄송해요 무슨 말인지 모르겠어요\"\n",
    "\n",
    "print(\"답변 : \", answer)\n",
    "\n",
    "db.close() # 디비 연결 끊음\n"
   ]
  }
 ],
 "metadata": {
  "kernelspec": {
   "display_name": "tf2",
   "language": "python",
   "name": "tensorflow"
  },
  "language_info": {
   "codemirror_mode": {
    "name": "ipython",
    "version": 3
   },
   "file_extension": ".py",
   "mimetype": "text/x-python",
   "name": "python",
   "nbconvert_exporter": "python",
   "pygments_lexer": "ipython3",
   "version": "3.6.13"
  }
 },
 "nbformat": 4,
 "nbformat_minor": 5
}
