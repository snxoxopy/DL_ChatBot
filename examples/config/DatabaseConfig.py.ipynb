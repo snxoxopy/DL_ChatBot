{
 "cells": [
  {
   "cell_type": "code",
   "execution_count": 1,
   "id": "52167581",
   "metadata": {},
   "outputs": [],
   "source": [
    "DB_HOST = \"127.0.0.1\"\n",
    "DB_USER = \"homestead\"\n",
    "DB_PASSWORD = \"secret\"\n",
    "DB_NAME = \"homestead\"\n",
    "\n",
    "\n",
    "def DatabaseConfig():\n",
    "    global DB_HOST, DB_USER, DB_PASSWORD, DB_NAME"
   ]
  }
 ],
 "metadata": {
  "kernelspec": {
   "display_name": "tf2",
   "language": "python",
   "name": "tensorflow"
  },
  "language_info": {
   "codemirror_mode": {
    "name": "ipython",
    "version": 3
   },
   "file_extension": ".py",
   "mimetype": "text/x-python",
   "name": "python",
   "nbconvert_exporter": "python",
   "pygments_lexer": "ipython3",
   "version": "3.6.13"
  }
 },
 "nbformat": 4,
 "nbformat_minor": 5
}
